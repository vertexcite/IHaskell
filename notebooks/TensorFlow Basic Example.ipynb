{
 "cells": [
  {
   "cell_type": "markdown",
   "metadata": {},
   "source": [
    "# Simple TensorFlow Haskell Demo\n",
    "* Based on the example at https://github.com/tensorflow/haskell\n",
    "* (Requires following the install steps for tensorflow haskell first.)"
   ]
  },
  {
   "cell_type": "code",
   "execution_count": 11,
   "metadata": {
    "collapsed": false
   },
   "outputs": [],
   "source": [
    "import qualified TensorFlow.Core as TF\n",
    "import qualified TensorFlow.GenOps.Core as TF\n",
    "import qualified TensorFlow.Gradient as TF\n",
    "import qualified TensorFlow.Ops as TF\n",
    "import Control.Monad (replicateM, replicateM_, zipWithM)\n",
    "import System.Random (randomIO)\n",
    "\n"
   ]
  },
  {
   "cell_type": "code",
   "execution_count": 8,
   "metadata": {
    "collapsed": true
   },
   "outputs": [],
   "source": [
    "gradientDescent :: Float\n",
    "                -> TF.Tensor TF.Build Float\n",
    "                -> [TF.Tensor TF.Ref Float]\n",
    "                -> TF.Session TF.ControlNode\n",
    "gradientDescent alpha loss params = do\n",
    "    let applyGrad param grad =\n",
    "            TF.assign param (param `TF.sub` (TF.scalar alpha `TF.mul` grad))\n",
    "    TF.group =<< zipWithM applyGrad params =<< TF.gradients loss params"
   ]
  },
  {
   "cell_type": "code",
   "execution_count": 9,
   "metadata": {
    "collapsed": false
   },
   "outputs": [],
   "source": [
    "fit :: [Float] -> [Float] -> IO (Float, Float)\n",
    "fit xData yData = TF.runSession $ do\n",
    "    -- Create tensorflow constants for x and y.\n",
    "    let x = TF.vector xData\n",
    "        y = TF.vector yData\n",
    "    -- Create scalar variables for slope and intercept.\n",
    "    w <- TF.initializedVariable 0\n",
    "    b <- TF.initializedVariable 0\n",
    "    -- Define the loss function.\n",
    "    let yHat = (x `TF.mul` w) `TF.add` b\n",
    "        loss = TF.square (yHat `TF.sub` y)\n",
    "    -- Optimize with gradient descent.\n",
    "    let learningRate = 0.01\n",
    "        iterations = 400\n",
    "    trainStep <- gradientDescent learningRate loss [w, b]\n",
    "    replicateM_ iterations (TF.run trainStep)\n",
    "    -- Return the learned parameters.\n",
    "    (TF.Scalar w', TF.Scalar b') <- TF.run (w, b)\n",
    "    return (w', b')"
   ]
  },
  {
   "cell_type": "code",
   "execution_count": 10,
   "metadata": {
    "collapsed": true
   },
   "outputs": [],
   "source": [
    "pointsCount = 30\n",
    "slope = -5\n",
    "intercept = 11"
   ]
  },
  {
   "cell_type": "code",
   "execution_count": 16,
   "metadata": {
    "collapsed": false
   },
   "outputs": [],
   "source": [
    ":ext ScopedTypeVariables\n",
    "-- Generate data where `y = x*slope + intercept`.\n",
    "xData :: [Float] <- replicateM pointsCount randomIO\n",
    "let yData = [x*slope + intercept | x <- xData]\n",
    "    minX = min xData\n",
    "    maxX = max xData\n",
    "\n",
    "-- Add some noise to y values\n",
    "yNoiseData :: [Float] <- replicateM pointsCount randomIO\n",
    "let noiseScale = 0.5\n",
    "    noisyY = zipWith (+) yData (map (*noiseScale) yNoiseData)\n",
    "(w, b) <- fit xData noisyY"
   ]
  },
  {
   "cell_type": "code",
   "execution_count": 19,
   "metadata": {
    "collapsed": false
   },
   "outputs": [
    {
     "data": {
      "text/plain": [
       "(-5.0135417,11.274192)"
      ]
     },
     "metadata": {},
     "output_type": "display_data"
    }
   ],
   "source": [
    "(w, b)"
   ]
  },
  {
   "cell_type": "code",
   "execution_count": 28,
   "metadata": {
    "collapsed": false
   },
   "outputs": [
    {
     "data": {
      "image/png": "[encoded data removed]"
     },
     "metadata": {},
     "output_type": "display_data"
    }
   ],
   "source": [
    "import Data.Colour\n",
    "import Data.Colour.Names\n",
    "\n",
    "setLinesBlue :: PlotLines a b -> PlotLines a b\n",
    "setLinesBlue = plot_lines_style  . line_color .~ opaque blue\n",
    "\n",
    "chart = toRenderable layout\n",
    "  where\n",
    "    fittedLine = plot_lines_values .~ [[(minimum xData, (minimum xData * w + b)), (maximum xData, (maximum xData * w + b))]]\n",
    "              $ plot_lines_style  . line_color .~ opaque blue\n",
    "              $ plot_lines_title .~ \"Fitted line\"\n",
    "              $ def\n",
    "\n",
    "    dataPoints = plot_points_style .~ filledCircles 2 (opaque red)\n",
    "              $ plot_points_values .~ (zip xData noisyY)\n",
    "              $ plot_points_title .~ \"Data points\"\n",
    "              $ def\n",
    "\n",
    "    layout = layout_title .~ \"TF linear regression\"\n",
    "           $ layout_plots .~ [toPlot fittedLine,\n",
    "                              toPlot dataPoints]\n",
    "           $ def\n",
    "\n",
    "chart"
   ]
  },
  {
   "cell_type": "code",
   "execution_count": null,
   "metadata": {
    "collapsed": true
   },
   "outputs": [],
   "source": []
  }
 ],
 "metadata": {
  "anaconda-cloud": {},
  "kernelspec": {
   "display_name": "Haskell",
   "language": "haskell",
   "name": "haskell"
  },
  "language_info": {
   "codemirror_mode": "ihaskell",
   "file_extension": ".hs",
   "name": "haskell",
   "version": "8.0.2"
  }
 },
 "nbformat": 4,
 "nbformat_minor": 1
}
